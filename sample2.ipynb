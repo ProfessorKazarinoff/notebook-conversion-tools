{
 "cells": [
  {
   "cell_type": "markdown",
   "metadata": {},
   "source": [
    "# Sample 2"
   ]
  },
  {
   "cell_type": "markdown",
   "metadata": {},
   "source": [
    "Lorem ipsum dolor sit amet, consectetur adipiscing elit. Duis nec ante ex. Sed neque magna, commodo a aliquam vel, viverra id lectus. Ut quis tellus vel elit euismod pretium a ut odio. Maecenas rhoncus pulvinar mauris, dignissim tincidunt dui. Etiam sed diam nec lectus rutrum feugiat et vitae sem. Curabitur elementum mattis erat ac varius. Maecenas mollis nibh arcu, et pharetra turpis accumsan ac. Suspendisse congue, lorem at mattis cursus, dui magna condimentum ipsum, vel maximus tellus velit euismod felis. Sed lobortis ut enim id efficitur. Integer dapibus pretium hendrerit. Nullam porta urna quis leo cursus rutrum. Etiam felis diam, elementum at laoreet vehicula, varius ut mauris. "
   ]
  },
  {
   "cell_type": "markdown",
   "metadata": {},
   "source": [
    "## Heading 2"
   ]
  },
  {
   "cell_type": "markdown",
   "metadata": {},
   "source": [
    "In quis porttitor dui. ```In ligula metus```, accumsan quis lacus vel, gravida facilisis neque. In sagittis commodo eros. Praesent eget nisi accumsan, rutrum magna ut, rutrum elit. Vivamus sed ante urna. Vestibulum ligula orci, maximus eu lectus eu, ullamcorper dictum felis. Maecenas tristique, mi at ultricies porta, eros sapien posuere libero, eget maximus purus neque ut neque. Sed bibendum massa quis nibh maximus elementum. Vestibulum pellentesque diam id ornare posuere. Suspendisse eu semper nulla, a tincidunt elit. Sed maximus sem eu leo convallis dictum. Integer elementum auctor libero ut finibus. Suspendisse blandit arcu nec ex tempus semper. Proin cursus massa risus. "
   ]
  },
  {
   "cell_type": "code",
   "execution_count": 3,
   "metadata": {},
   "outputs": [
    {
     "name": "stdout",
     "output_type": "stream",
     "text": [
      "This is some code cell output\n"
     ]
    }
   ],
   "source": [
    "print('This is some code cell output')"
   ]
  },
  {
   "cell_type": "code",
   "execution_count": null,
   "metadata": {},
   "outputs": [],
   "source": []
  }
 ],
 "metadata": {
  "kernelspec": {
   "display_name": "Python 3",
   "language": "python",
   "name": "python3"
  },
  "language_info": {
   "codemirror_mode": {
    "name": "ipython",
    "version": 3
   },
   "file_extension": ".py",
   "mimetype": "text/x-python",
   "name": "python",
   "nbconvert_exporter": "python",
   "pygments_lexer": "ipython3",
   "version": "3.6.6"
  }
 },
 "nbformat": 4,
 "nbformat_minor": 2
}
